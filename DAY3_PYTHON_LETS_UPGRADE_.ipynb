{
  "nbformat": 4,
  "nbformat_minor": 0,
  "metadata": {
    "colab": {
      "name": "DAY3_PYTHON_LETS UPGRADE .ipynb",
      "provenance": [],
      "collapsed_sections": []
    },
    "kernelspec": {
      "name": "python3",
      "display_name": "Python 3"
    },
    "language_info": {
      "name": "python"
    }
  },
  "cells": [
    {
      "cell_type": "code",
      "metadata": {
        "id": "1UP9PSKc13Sn"
      },
      "source": [
        "tup = (1,2,3,4,2,5,6,2)\n"
      ],
      "execution_count": 1,
      "outputs": []
    },
    {
      "cell_type": "code",
      "metadata": {
        "colab": {
          "base_uri": "https://localhost:8080/"
        },
        "id": "LpJOKYeE19gC",
        "outputId": "2601ba47-6005-4192-aa5e-b6959afa7852"
      },
      "source": [
        "print(tup)"
      ],
      "execution_count": 2,
      "outputs": [
        {
          "output_type": "stream",
          "text": [
            "(1, 2, 3, 4, 2, 5, 6, 2)\n"
          ],
          "name": "stdout"
        }
      ]
    },
    {
      "cell_type": "code",
      "metadata": {
        "colab": {
          "base_uri": "https://localhost:8080/"
        },
        "id": "CRjDzQrb1_j5",
        "outputId": "0caf6f26-cce8-438c-ca72-e281817b6317"
      },
      "source": [
        "print(tup.count(2))"
      ],
      "execution_count": 4,
      "outputs": [
        {
          "output_type": "stream",
          "text": [
            "3\n"
          ],
          "name": "stdout"
        }
      ]
    },
    {
      "cell_type": "code",
      "metadata": {
        "colab": {
          "base_uri": "https://localhost:8080/"
        },
        "id": "XXiFkH2i21gN",
        "outputId": "ceee5c62-4720-4a59-8dc4-7ea8bb729a1b"
      },
      "source": [
        "print(tup.index(5))"
      ],
      "execution_count": 8,
      "outputs": [
        {
          "output_type": "stream",
          "text": [
            "5\n"
          ],
          "name": "stdout"
        }
      ]
    },
    {
      "cell_type": "code",
      "metadata": {
        "id": "RN_gmc1L3TSX"
      },
      "source": [
        "#conditional statements"
      ],
      "execution_count": 9,
      "outputs": []
    },
    {
      "cell_type": "code",
      "metadata": {
        "colab": {
          "base_uri": "https://localhost:8080/"
        },
        "id": "3NV3uVHaC0KI",
        "outputId": "b90ca617-70b4-4bc9-8859-5698babba34b"
      },
      "source": [
        "amo = int(input(\"enter the left out amount :\"))\n",
        "if amo > 10 :\n",
        "  print(\"chai & biscuit\")\n",
        "  print(\"done\")\n"
      ],
      "execution_count": 13,
      "outputs": [
        {
          "output_type": "stream",
          "text": [
            "enter the left out amount :15\n",
            "chai & biscuit\n",
            "done\n"
          ],
          "name": "stdout"
        }
      ]
    },
    {
      "cell_type": "code",
      "metadata": {
        "colab": {
          "base_uri": "https://localhost:8080/"
        },
        "id": "n9zCP4SODPKV",
        "outputId": "f97e23ac-42da-405b-aabb-13cf601eae35"
      },
      "source": [
        "amo = int(input(\"enter the left out amount :\"))\n",
        "if amo > 10 :\n",
        "  print(\"chai & biscuit\")\n",
        "else:\n",
        "    print(\"only biscuit\")\n",
        "    print(\"done\")\n"
      ],
      "execution_count": 18,
      "outputs": [
        {
          "output_type": "stream",
          "text": [
            "enter the left out amount :9\n",
            "only biscuit\n",
            "done\n"
          ],
          "name": "stdout"
        }
      ]
    },
    {
      "cell_type": "code",
      "metadata": {
        "colab": {
          "base_uri": "https://localhost:8080/"
        },
        "id": "_Az19bl0E7qU",
        "outputId": "f598ea67-497b-438b-d58b-3f58029a6da5"
      },
      "source": [
        "amo = int(input(\"enter the left out amount :\"))\n",
        "if amo > 10 :\n",
        "  print(\"chai & biscuit\")\n",
        "elif amo > 5:\n",
        "  print(\"only chai\")\n",
        "else:\n",
        "    print(\"only biscuit\")\n",
        "    print(\"done\")\n"
      ],
      "execution_count": 19,
      "outputs": [
        {
          "output_type": "stream",
          "text": [
            "enter the left out amount :6\n",
            "only chai\n"
          ],
          "name": "stdout"
        }
      ]
    },
    {
      "cell_type": "code",
      "metadata": {
        "id": "Yr_ggRHwYA-Z"
      },
      "source": [
        "i = 1\n",
        "while i>=10:\n",
        "  print('5')\n",
        "  i = i + 1"
      ],
      "execution_count": 28,
      "outputs": []
    },
    {
      "cell_type": "code",
      "metadata": {
        "colab": {
          "base_uri": "https://localhost:8080/"
        },
        "id": "MrK_Z6btYV5g",
        "outputId": "eb6df1fe-02bf-4d30-dd1f-825c1e949c2a"
      },
      "source": [
        "for i in range(1,11):\n",
        "  print(\"5\")"
      ],
      "execution_count": 29,
      "outputs": [
        {
          "output_type": "stream",
          "text": [
            "5\n",
            "5\n",
            "5\n",
            "5\n",
            "5\n",
            "5\n",
            "5\n",
            "5\n",
            "5\n",
            "5\n"
          ],
          "name": "stdout"
        }
      ]
    },
    {
      "cell_type": "code",
      "metadata": {
        "colab": {
          "base_uri": "https://localhost:8080/"
        },
        "id": "SFKaG1rHnMAX",
        "outputId": "66b1da7e-6f3c-464c-dde9-6b8a0855962a"
      },
      "source": [
        "for i in range(1,11):\n",
        "  print(\"5\" , end = \" \")"
      ],
      "execution_count": 30,
      "outputs": [
        {
          "output_type": "stream",
          "text": [
            "5 5 5 5 5 5 5 5 5 5 "
          ],
          "name": "stdout"
        }
      ]
    },
    {
      "cell_type": "code",
      "metadata": {
        "colab": {
          "base_uri": "https://localhost:8080/"
        },
        "id": "AhIYXLccnRsE",
        "outputId": "4cbd59c6-be20-4bed-b761-133cf723d698"
      },
      "source": [
        "city = \"mumbai\"\n",
        "for i in city:\n",
        "  print(i,end=\"\") "
      ],
      "execution_count": 31,
      "outputs": [
        {
          "output_type": "stream",
          "text": [
            "mumbai"
          ],
          "name": "stdout"
        }
      ]
    },
    {
      "cell_type": "code",
      "metadata": {
        "colab": {
          "base_uri": "https://localhost:8080/"
        },
        "id": "5rBisXpZoYF3",
        "outputId": "6a7fb84a-20a6-4219-833c-9e3dba80885c"
      },
      "source": [
        "city = \"mumbai\"\n",
        "for i in city:\n",
        "  print(i,end=\"_\") "
      ],
      "execution_count": 32,
      "outputs": [
        {
          "output_type": "stream",
          "text": [
            "m_u_m_b_a_i_"
          ],
          "name": "stdout"
        }
      ]
    },
    {
      "cell_type": "code",
      "metadata": {
        "colab": {
          "base_uri": "https://localhost:8080/"
        },
        "id": "FOISMdJ4od0c",
        "outputId": "3ed4747e-9946-434b-a69e-8052a4a48ae3"
      },
      "source": [
        "li=[1,2,4,5,7,9]\n",
        "for i in li:\n",
        "  print(i,end=\" \")"
      ],
      "execution_count": 33,
      "outputs": [
        {
          "output_type": "stream",
          "text": [
            "1 2 4 5 7 9 "
          ],
          "name": "stdout"
        }
      ]
    },
    {
      "cell_type": "code",
      "metadata": {
        "colab": {
          "base_uri": "https://localhost:8080/"
        },
        "id": "nxzh5oYqopXB",
        "outputId": "f6d028f7-9e42-46b3-e8e9-0b7d6a831beb"
      },
      "source": [
        "dict1 = {\"name\":\"sekhar\",\"age\":25,\"college\":\"NIPER\"}\n",
        "for i in dict1:\n",
        "  print(i,end=\" \")"
      ],
      "execution_count": 37,
      "outputs": [
        {
          "output_type": "stream",
          "text": [
            "name age college "
          ],
          "name": "stdout"
        }
      ]
    },
    {
      "cell_type": "code",
      "metadata": {
        "colab": {
          "base_uri": "https://localhost:8080/"
        },
        "id": "2O2jqTSapC8W",
        "outputId": "b466d54f-d601-467b-e153-095de401b668"
      },
      "source": [
        "dict1 = {\"name\":\"sekhar\",\"age\":25,\"college\":\"NIPER\"}\n",
        "for i in dict1.values():\n",
        "  print(i,end=\" \")"
      ],
      "execution_count": 38,
      "outputs": [
        {
          "output_type": "stream",
          "text": [
            "sekhar 25 NIPER "
          ],
          "name": "stdout"
        }
      ]
    },
    {
      "cell_type": "code",
      "metadata": {
        "colab": {
          "base_uri": "https://localhost:8080/"
        },
        "id": "F2K6m3_EpcPr",
        "outputId": "94edef60-bfdb-4e01-ee1b-e3c3b09b4e3b"
      },
      "source": [
        "dict1 = {\"name\":\"sekhar\",\"age\":25,\"college\":\"NIPER\"}\n",
        "for i in dict1.items():\n",
        "  print(i,end=\" \")"
      ],
      "execution_count": 39,
      "outputs": [
        {
          "output_type": "stream",
          "text": [
            "('name', 'sekhar') ('age', 25) ('college', 'NIPER') "
          ],
          "name": "stdout"
        }
      ]
    },
    {
      "cell_type": "code",
      "metadata": {
        "colab": {
          "base_uri": "https://localhost:8080/"
        },
        "id": "RlDKH1hYpnKy",
        "outputId": "a1bcfd10-b081-4b1f-9f11-3df05932ca7e"
      },
      "source": [
        "x = int(input(\"enter the 1st value\"))\n",
        "y = int(input(\"enter the 2nd value\"))\n",
        "res = x ** y\n",
        "print(res)"
      ],
      "execution_count": 41,
      "outputs": [
        {
          "output_type": "stream",
          "text": [
            "enter the 1st value10\n",
            "enter the 2nd value2\n",
            "100\n"
          ],
          "name": "stdout"
        }
      ]
    },
    {
      "cell_type": "code",
      "metadata": {
        "colab": {
          "base_uri": "https://localhost:8080/"
        },
        "id": "JhoSRnQ4qkWp",
        "outputId": "f53464f6-6215-4147-b36d-f0afad94c3a7"
      },
      "source": [
        "x = int(input(\"enter the 1st value\"))\n",
        "y = int(input(\"enter the 2nd value\"))\n",
        "res = x ** y\n",
        "print(f\"result is {res}\")"
      ],
      "execution_count": 44,
      "outputs": [
        {
          "output_type": "stream",
          "text": [
            "enter the 1st value20\n",
            "enter the 2nd value4\n",
            "result is 160000\n"
          ],
          "name": "stdout"
        }
      ]
    },
    {
      "cell_type": "code",
      "metadata": {
        "id": "9aMs-VDgRa67"
      },
      "source": [
        ""
      ],
      "execution_count": null,
      "outputs": []
    }
  ]
}